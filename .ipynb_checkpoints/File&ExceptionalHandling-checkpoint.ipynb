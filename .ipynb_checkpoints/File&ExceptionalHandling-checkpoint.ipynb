{
 "cells": [
  {
   "cell_type": "markdown",
   "id": "7eed94c4",
   "metadata": {},
   "source": [
    "# Q1 Discuss the scenarios where multithreading is preferable to multiprocessing and scenarios where multiprocessing is a better choice."
   ]
  },
  {
   "cell_type": "code",
   "execution_count": 3,
   "id": "c30bd3ba",
   "metadata": {},
   "outputs": [],
   "source": [
    "# Multithreading\n",
    "\n",
    "# Advantages:\n",
    "\n",
    "# Lightweight: Threads share the same memory space, reducing overhead and improving performance for tasks that involve frequent data sharing.\n",
    "# Easier to manage: Thread creation and synchronization are generally simpler than their multiprocessing counterparts.\n",
    "# Suitable for I/O-bound tasks: Threads can effectively handle tasks that involve a lot of input/output operations (e.g., reading from files, network communication), as the operating system can switch between threads while waiting for I/O to complete.\n",
    "# Good for CPU-bound tasks with limited parallelism: If a CPU-bound task can be divided into subtasks that can be executed concurrently, multithreading can provide a performance boost. However, for highly CPU-bound tasks with significant parallelism, multiprocessing might be more suitable.\n",
    "# Scenarios:\n",
    "\n",
    "# Web servers: Handling multiple client requests concurrently.\n",
    "# Database systems: Processing concurrent queries and updates.\n",
    "# GUI applications: Responding to user input and updating the display.\n",
    "# Scientific simulations: Performing calculations on large datasets.\n",
    "# Multiprocessing\n",
    "\n",
    "# Advantages:\n",
    "\n",
    "# Isolation: Each process has its own memory space, preventing one process from affecting the others. This is crucial for tasks that involve potentially dangerous operations or sensitive data.\n",
    "# Scalability: Multiprocessing can effectively utilize multiple cores or processors, making it suitable for highly CPU-bound tasks with significant parallelism.\n",
    "# Better for tasks with independent subtasks: If the subtasks of a task can be executed independently and don't require frequent data sharing, multiprocessing can provide a significant performance boost.\n",
    "# Scenarios:\n",
    "\n",
    "# Data-intensive tasks: Processing large datasets that require parallel processing.\n",
    "# CPU-bound tasks with significant parallelism: Tasks that can be divided into many independent subtasks that can be executed concurrently on multiple cores or processors.\n",
    "# Applications that require isolation: Applications that handle sensitive data or perform potentially dangerous operations.\n",
    "# Key Considerations:\n",
    "\n",
    "# Data sharing: If tasks need to share data frequently, multithreading is generally more efficient due to shared memory. If data sharing is minimal, multiprocessing might be a better choice.\n",
    "# Task dependencies: If tasks have dependencies and need to communicate frequently, multithreading might be more suitable due to shared memory and easier synchronization. If tasks are independent, multiprocessing can provide better scalability.\n",
    "# CPU utilization: For highly CPU-bound tasks with significant parallelism, multiprocessing can effectively utilize multiple cores or processors.\n",
    "# Process isolation: If tasks involve potentially dangerous operations or sensitive data, multiprocessing can provide better isolation."
   ]
  },
  {
   "cell_type": "markdown",
   "id": "79ae704c",
   "metadata": {},
   "source": [
    "# Q2 Describe what a process pool is and how it helps in managing multiple processes efficiently."
   ]
  },
  {
   "cell_type": "code",
   "execution_count": 6,
   "id": "9f1e2757",
   "metadata": {},
   "outputs": [],
   "source": [
    "# Process Pools: Efficient Process Management\n",
    "# A process pool is a collection of pre-created processes that are ready to be used for executing tasks. \n",
    "# This mechanism is particularly useful in scenarios where you need to perform many computationally intensive tasks concurrently. \n",
    "# By creating a pool of processes upfront, you avoid the overhead of creating new processes for each task, which can be time-consuming.\n",
    "\n",
    "\n",
    "# Wokring Prcess Pool\n",
    "# Process Creation: A specified number of processes are created and initialized within the pool. These processes are typically kept idle, waiting for tasks to be assigned.\n",
    "# Task Submission: When a task becomes available, it is submitted to the pool. The pool's scheduler then assigns the task to an available process.\n",
    "# Task Execution: The assigned process executes the task.\n",
    "# Result Retrieval: Once the task is complete, the process returns the result to the pool, which can then be retrieved by the original caller.\n",
    "# Process Reuse: After a process finishes a task, it is typically reused for another task, avoiding the need to create a new process.\n"
   ]
  },
  {
   "cell_type": "markdown",
   "id": "e1a76ae0",
   "metadata": {},
   "source": [
    "# Q3 Explain what multiprocessing is and why it is used in Python programs."
   ]
  },
  {
   "cell_type": "code",
   "execution_count": 12,
   "id": "6db2d299",
   "metadata": {},
   "outputs": [],
   "source": [
    "# Multiprocessing in Python is a technique that allows you to run multiple processes concurrently, \n",
    "# each with its own memory space. This is particularly useful for tasks that are computationally intensive or involve I/O operations, \n",
    "# as it can significantly improve performance by utilizing multiple CPU cores.\n",
    "\n",
    "# Why use multiprocessing in Python?\n",
    "\n",
    "# 1 CPU-bound tasks: For tasks that are heavily CPU-intensive, multiprocessing can distribute the workload across multiple processes,\n",
    "# allowing each process to utilize a separate CPU core. This can lead to significant performance improvements, especially on machines\n",
    "# with multiple cores.\n",
    "# 2 I/O-bound tasks: Tasks that involve frequent input/output operations (e.g., reading from files, network communication) \n",
    "# can benefit from multiprocessing. While one process is waiting for an I/O operation to complete, another process can be executing \n",
    "# other tasks, maximizing CPU utilization.\n",
    "# 3 Independent tasks: If your program involves multiple independent tasks that can be executed concurrently without affecting each \n",
    "# other, multiprocessing can be a great way to parallelize these tasks and improve performance.\n",
    "# 4 Isolation: Each process in multiprocessing has its own memory space, which can be beneficial for tasks that involve potentially \n",
    "# dangerous operations or sensitive data. This isolation helps prevent one process from affecting the others.\n",
    "\n",
    "\n"
   ]
  },
  {
   "cell_type": "code",
   "execution_count": 14,
   "id": "e9f9c1b0",
   "metadata": {},
   "outputs": [
    {
     "name": "stdout",
     "output_type": "stream",
     "text": [
      "The program finished in 0.21 seconds\n"
     ]
    }
   ],
   "source": [
    "import multiprocessing\n",
    "\n",
    "import time\n",
    "start = time.perf_counter()\n",
    "\n",
    "def test_func():\n",
    "    print(\"do something\")\n",
    "    print(\"sleep for 1 sec\")\n",
    "    time.sleep(1)\n",
    "    print(\"done with sleeping\")\n",
    "\n",
    "p1 = multiprocessing.Process(target = test_func)\n",
    "p2 = multiprocessing.Process(target = test_func)\n",
    "\n",
    "p1.start()\n",
    "p2.start()\n",
    "\n",
    "p1.join()\n",
    "p2.join()\n",
    "    \n",
    "\n",
    "end = time.perf_counter()\n",
    "\n",
    "print(f\"The program finished in {round(end-start, 2)} seconds\")"
   ]
  },
  {
   "cell_type": "markdown",
   "id": "440fd6c7-3f4e-4792-a616-65ea41bbc2cd",
   "metadata": {},
   "source": [
    "# Q4 Write a Python program using multithreading where one thread adds numbers to a list, and another thread removes numbers from the list. Implement a mechanism to avoid race conditions using threading.Lock."
   ]
  },
  {
   "cell_type": "code",
   "execution_count": 17,
   "id": "2f7c992f",
   "metadata": {},
   "outputs": [
    {
     "name": "stdout",
     "output_type": "stream",
     "text": [
      "Added 0 to the list.\n",
      "Removed 0 from the list.\n",
      "Added 1 to the list.\n",
      "Removed 1 from the list.\n",
      "List is empty.\n",
      "Added 2 to the list.\n",
      "Added 3 to the list.\n",
      "Removed 2 from the list.\n",
      "Added 4 to the list.\n",
      "Removed 3 from the list.\n",
      "Removed 4 from the list.\n",
      "Added 5 to the list.\n",
      "Removed 5 from the list.\n",
      "Added 6 to the list.\n",
      "Removed 6 from the list.\n",
      "Added 7 to the list.\n",
      "Added 8 to the list.\n",
      "Removed 7 from the list.\n",
      "Removed 8 from the list.\n",
      "Added 9 to the list.\n"
     ]
    }
   ],
   "source": [
    "import threading\n",
    "import time\n",
    "\n",
    "class NumberList:\n",
    "    def __init__(self):\n",
    "        self.numbers = []\n",
    "        self.lock = threading.Lock()\n",
    "\n",
    "    def add_number(self, number):\n",
    "        with self.lock:\n",
    "            self.numbers.append(number)\n",
    "            print(f\"Added {number} to the list.\")\n",
    "\n",
    "    def remove_number(self):\n",
    "        with self.lock:\n",
    "            if self.numbers:\n",
    "                number = self.numbers.pop(0)\n",
    "                print(f\"Removed {number} from the list.\")\n",
    "            else:\n",
    "                print(\"List is empty.\")\n",
    "\n",
    "def add_thread(number_list):\n",
    "    for i in range(10):\n",
    "        number_list.add_number(i)\n",
    "        time.sleep(1)\n",
    "\n",
    "def remove_thread(number_list):\n",
    "    for _ in range(10):\n",
    "        number_list.remove_number()\n",
    "        time.sleep(1)\n",
    "\n",
    "if __name__ == \"__main__\":\n",
    "    number_list = NumberList()\n",
    "\n",
    "    add_thread = threading.Thread(target=add_thread, args=(number_list,))\n",
    "    remove_thread = threading.Thread(target=remove_thread, args=(number_list,))\n",
    "\n",
    "    add_thread.start()\n",
    "    remove_thread.start()\n",
    "\n",
    "    add_thread.join()\n",
    "    remove_thread.join()\n",
    "    "
   ]
  },
  {
   "cell_type": "markdown",
   "id": "5e4c4dd0-9acf-4f99-9d3a-fd3f0c03ddf5",
   "metadata": {},
   "source": [
    "# Q5 Describe the methods and tools available in Python for safely sharing data between threads and processes."
   ]
  },
  {
   "cell_type": "code",
   "execution_count": 20,
   "id": "820cdc94",
   "metadata": {},
   "outputs": [],
   "source": [
    "# Sharing Data Between Threads\n",
    "# 1. Shared Memory:\n",
    "    # 1 multiprocessing.shared_memory: Allocates a block of shared memory that can be accessed by multiple processes.\n",
    "    # 2 multiprocessing.Array: Creates a shared array that can be accessed by multiple processes.\n",
    "# 2. Queues:\n",
    "    # 1 queue.Queue: A thread-safe queue for communication between threads.\n",
    "    # 2 multiprocessing.Queue: A process-safe queue for communication between processes.\n",
    "# 3. Shared Objects:\n",
    "    # Manager: A class in the multiprocessing module that allows you to create shared objects like lists, dictionaries, and more. These objects can be accessed and modified by multiple processes.\n",
    "# Sharing Data Between Processes\n",
    "# 1. Pipes:\n",
    "    # Multiprocessing.Pipe: Creates a pair of pipes for one-way or two-way communication between processes.\n",
    "# 2. Queues:\n",
    "    # Multiprocessing.Queue: As mentioned above, this is a process-safe queue for communication between processes.\n",
    "# 3. Shared Memory:\n",
    "# Multiprocessing.shared_memory and multiprocessing.Array: These can be used for sharing data between processes.\n",
    "# 4. Files:\n",
    "    # File I/O: Using file operations like open(), write(), and read() to share data between processes. This method is suitable for large datasets or persistent storage.\n",
    "# 5. Shared Memory Segments:\n",
    "    # Map module: Provides access to memory-mapped files, allowing multiple processes to access the same data.\n",
    "# Best Practices for Safe Data Sharing:\n",
    "\n",
    "   # 1 Lock Mechanisms:  Use threading.Lock or multiprocessing.Lock to protect shared data and prevent race conditions.\n",
    "   # 2 Context Managers:  Employ with statements to automatically acquire and release locks, simplifying synchronization.\n",
    "   # 3 Thread-Safe Data Structures:  Utilize thread-safe data structures like Queue to ensure safe access from multiple threads.\n",
    "   # 4 Process-Safe Communication:  Use process-safe mechanisms like multiprocessing.Queue or multiprocessing.Pipe for inter-process communication.\n",
    "   # 5 Error Handling:  Implement proper error handling and exception handling to gracefully handle unexpected situations.\n",
    "   # 6 Testing:  Thoroughly test your code to identify and fix potential issues related to data sharing and synchronization."
   ]
  },
  {
   "cell_type": "markdown",
   "id": "dd3d1973-26b7-46c0-ab24-7064f07baf54",
   "metadata": {},
   "source": [
    "<!-- Q6 Discuss why it’s crucial to handle exceptions in concurrent programs and the techniques available for doing so. -->"
   ]
  },
  {
   "cell_type": "code",
   "execution_count": 41,
   "id": "f5ffc7b5-6439-436c-bb0c-6e43dc8952fb",
   "metadata": {},
   "outputs": [],
   "source": [
    "#Q6 Discuss why it’s crucial to handle exceptions in concurrent programs and the techniques available for doing so."
   ]
  },
  {
   "cell_type": "code",
   "execution_count": 43,
   "id": "05dd60eb",
   "metadata": {},
   "outputs": [],
   "source": [
    "# 1. Importance of Handling Exceptions:\n",
    "#        1 Stability: In concurrent programs, unhandled exceptions can lead to crashes or unpredictable behavior, affecting the entire application.\n",
    "#        2 Resource Management: Proper exception handling ensures that resources (like threads, file handles, or network connections) are released appropriately, preventing resource leaks.\n",
    "#        3 Debugging: Handling exceptions allows developers to log errors and understand the context in which they occurred, making it easier to debug issues in a multi-threaded environment.\n",
    "\n",
    "# 2. Techniques for Handling Exceptions:\n",
    "#        1 Try-Except Blocks: Wrapping code that may raise exceptions in try-except blocks to catch and handle specific exceptions.\n",
    "#        2 Thread-Specific Exception Handling: Using thread-local storage to manage exceptions in individual threads without affecting others.\n",
    "#        3 Future and Promise Objects: In languages that support them, using futures or promises can help manage exceptions in asynchronous operations by allowing the main thread to check for errors after the operation completes.\n",
    "#        4 Logging: Implementing logging mechanisms to capture exceptions and their stack traces for later analysis."
   ]
  },
  {
   "cell_type": "markdown",
   "id": "7c4426c0-9bb5-4afe-8058-ac19c1af7460",
   "metadata": {},
   "source": [
    "# Q7 Create a program that uses a thread pool to calculate the factorial of numbers from 1 to 10 concurrently. Use concurrent.futures.ThreadPoolExecutor to manage the threads"
   ]
  },
  {
   "cell_type": "code",
   "execution_count": 1,
   "id": "5ec2bee7-7fce-4ccc-96b1-b6ddd1d2fe7f",
   "metadata": {},
   "outputs": [
    {
     "name": "stdout",
     "output_type": "stream",
     "text": [
      "Factorial of 1 is 1\n",
      "Factorial of 8 is 40320\n",
      "Factorial of 9 is 362880\n",
      "Factorial of 2 is 2\n",
      "Factorial of 3 is 6\n",
      "Factorial of 5 is 120\n",
      "Factorial of 6 is 720\n",
      "Factorial of 7 is 5040\n",
      "Factorial of 4 is 24\n",
      "Factorial of 10 is 3628800\n"
     ]
    }
   ],
   "source": [
    "import concurrent.futures\n",
    "import math\n",
    "\n",
    "def calculate_factorial(n):\n",
    "    return math.factorial(n)\n",
    "\n",
    "if __name__ == \"__main__\":\n",
    "    with concurrent.futures.ThreadPoolExecutor() as executor:\n",
    "        futures = {executor.submit(calculate_factorial, i): i for i in range(1, 11)}\n",
    "        for future in concurrent.futures.as_completed(futures):\n",
    "            number = futures[future]\n",
    "            result = future.result()\n",
    "            print(f\"Factorial of {number} is {result}\")"
   ]
  },
  {
   "cell_type": "markdown",
   "id": "ef71aa85-3fa5-46b6-b191-481a6a8a796c",
   "metadata": {},
   "source": [
    "# Q8 Create a Python program that uses multiprocessing.Pool to compute the square of numbers from 1 to 10 in parallel. Measure the time taken to perform this computation using a pool of different sizes (e.g., 2, 4, 8 processes)"
   ]
  },
  {
   "cell_type": "code",
   "execution_count": null,
   "id": "41c09a3e-eb13-43ba-90b7-b37769454918",
   "metadata": {},
   "outputs": [],
   "source": [
    "import multiprocessing\n",
    "import time\n",
    "\n",
    "def square(n):\n",
    "    return n * n\n",
    "\n",
    "def compute_squares(pool_size):\n",
    "    with multiprocessing.Pool(processes=pool_size) as pool:\n",
    "        \n",
    "        numbers = list(range(1, 11))\n",
    "        \n",
    "        start_time = time.time()\n",
    "        \n",
    "        results = pool.map(square, numbers)\n",
    "        \n",
    "        end_time = time.time()\n",
    "        \n",
    "        print(f\"Pool size: {pool_size}, Results: {results}, Time taken: {end_time - start_time:.4f} seconds\")\n",
    "\n",
    "if __name__ == \"__main__\":\n",
    "    for size in [2, 4, 8]:\n",
    "        compute_squares(size)"
   ]
  },
  {
   "cell_type": "code",
   "execution_count": null,
   "id": "8654ec98",
   "metadata": {},
   "outputs": [],
   "source": []
  },
  {
   "cell_type": "code",
   "execution_count": null,
   "id": "55e28e09",
   "metadata": {},
   "outputs": [],
   "source": []
  },
  {
   "cell_type": "code",
   "execution_count": null,
   "id": "779a28da",
   "metadata": {},
   "outputs": [],
   "source": []
  },
  {
   "cell_type": "code",
   "execution_count": null,
   "id": "a191ffe0",
   "metadata": {},
   "outputs": [],
   "source": []
  },
  {
   "cell_type": "code",
   "execution_count": null,
   "id": "016a449f",
   "metadata": {},
   "outputs": [],
   "source": []
  },
  {
   "cell_type": "code",
   "execution_count": null,
   "id": "1d1199c5",
   "metadata": {},
   "outputs": [],
   "source": []
  },
  {
   "cell_type": "code",
   "execution_count": null,
   "id": "1970be9e",
   "metadata": {},
   "outputs": [],
   "source": []
  },
  {
   "cell_type": "code",
   "execution_count": null,
   "id": "e2e1c265",
   "metadata": {},
   "outputs": [],
   "source": []
  },
  {
   "cell_type": "code",
   "execution_count": null,
   "id": "cd401ce6",
   "metadata": {},
   "outputs": [],
   "source": []
  },
  {
   "cell_type": "code",
   "execution_count": null,
   "id": "31036259",
   "metadata": {},
   "outputs": [],
   "source": []
  },
  {
   "cell_type": "code",
   "execution_count": null,
   "id": "39dd71e9",
   "metadata": {},
   "outputs": [],
   "source": []
  },
  {
   "cell_type": "code",
   "execution_count": null,
   "id": "01959211",
   "metadata": {},
   "outputs": [],
   "source": []
  },
  {
   "cell_type": "code",
   "execution_count": null,
   "id": "a7cf94b2",
   "metadata": {},
   "outputs": [],
   "source": []
  }
 ],
 "metadata": {
  "kernelspec": {
   "display_name": "Python 3 (ipykernel)",
   "language": "python",
   "name": "python3"
  },
  "language_info": {
   "codemirror_mode": {
    "name": "ipython",
    "version": 3
   },
   "file_extension": ".py",
   "mimetype": "text/x-python",
   "name": "python",
   "nbconvert_exporter": "python",
   "pygments_lexer": "ipython3",
   "version": "3.12.7"
  }
 },
 "nbformat": 4,
 "nbformat_minor": 5
}
